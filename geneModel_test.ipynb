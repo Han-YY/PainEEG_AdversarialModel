{
 "cells": [
  {
   "cell_type": "code",
   "execution_count": 1,
   "metadata": {},
   "outputs": [],
   "source": [
    "# Load the libs\n",
    "import framework\n",
    "import numpy as np"
   ]
  },
  {
   "cell_type": "code",
   "execution_count": 2,
   "metadata": {},
   "outputs": [],
   "source": [
    "data_sample = np.load('sample_data.npz')\n",
    "# Load the sample data for testing the framework\n",
    "data_frames = data_sample.f.data_frames\n",
    "frame_label = data_sample.f.frame_label\n",
    "frame_subject = data_sample.f.frame_subject\n",
    "\n",
    "data_frames = np.reshape(data_frames, newshape=(data_frames.shape[0], data_frames.shape[1], data_frames.shape[2], 1))"
   ]
  },
  {
   "cell_type": "code",
   "execution_count": 3,
   "metadata": {},
   "outputs": [],
   "source": [
    "ad_model = framework.AdversarialModel(data_samples = data_frames, class_label=frame_label, subject_label=frame_subject, exclude_idx=35)"
   ]
  },
  {
   "cell_type": "code",
   "execution_count": 4,
   "metadata": {},
   "outputs": [
    {
     "name": "stderr",
     "output_type": "stream",
     "text": [
      "/opt/anaconda3/lib/python3.8/site-packages/torch/nn/functional.py:1639: UserWarning: nn.functional.sigmoid is deprecated. Use torch.sigmoid instead.\n",
      "  warnings.warn(\"nn.functional.sigmoid is deprecated. Use torch.sigmoid instead.\")\n",
      "/Users/yiyuan/Library/CloudStorage/OneDrive-UniversityofEssex/PG Research/2_Codes/2022_GenerativeModel/PainEEG_GenerativeModel/PainEEG_GenerativeModel/Untitled/trans_net.py:38: UserWarning: Implicit dimension choice for softmax has been deprecated. Change the call to include dim=X as an argument.\n",
      "  x = self.softmax(self.fc2(x))\n"
     ]
    },
    {
     "name": "stdout",
     "output_type": "stream",
     "text": [
      "[0/100][0/1500]\tLoss_main: 1.3856\tLoss_adv: 0.0004\tLoss(x): 1.3852\tD(G(x)): 0.2500 / -0.0150\n",
      "[1/100][0/1500]\tLoss_main: 1.3582\tLoss_adv: 0.0092\tLoss(x): 1.3491\tD(G(x)): 0.2500 / -13.5776\n",
      "[2/100][0/1500]\tLoss_main: 1.3376\tLoss_adv: 0.0216\tLoss(x): 1.3160\tD(G(x)): 0.2500 / -40.7540\n",
      "[3/100][0/1500]\tLoss_main: 1.3333\tLoss_adv: 0.0348\tLoss(x): 1.2985\tD(G(x)): 0.2500 / -72.1747\n",
      "[4/100][0/1500]\tLoss_main: 1.3042\tLoss_adv: 0.0477\tLoss(x): 1.2565\tD(G(x)): 0.2500 / -106.2231\n",
      "[5/100][0/1500]\tLoss_main: 1.2904\tLoss_adv: 0.0623\tLoss(x): 1.2281\tD(G(x)): 0.2500 / -138.0046\n",
      "[6/100][0/1500]\tLoss_main: 1.2855\tLoss_adv: 0.0732\tLoss(x): 1.2123\tD(G(x)): 0.2500 / -175.9897\n",
      "[7/100][0/1500]\tLoss_main: 1.2565\tLoss_adv: 0.0884\tLoss(x): 1.1682\tD(G(x)): 0.2500 / -210.3594\n",
      "[8/100][0/1500]\tLoss_main: 1.2345\tLoss_adv: 0.1025\tLoss(x): 1.1319\tD(G(x)): 0.2500 / -251.4965\n",
      "[9/100][0/1500]\tLoss_main: 1.2477\tLoss_adv: 0.1196\tLoss(x): 1.1281\tD(G(x)): 0.2500 / -294.3522\n",
      "[10/100][0/1500]\tLoss_main: 1.2043\tLoss_adv: 0.1325\tLoss(x): 1.0718\tD(G(x)): 0.2500 / -324.6725\n",
      "[11/100][0/1500]\tLoss_main: 1.1523\tLoss_adv: 0.1469\tLoss(x): 1.0054\tD(G(x)): 0.2500 / -376.8124\n",
      "[12/100][0/1500]\tLoss_main: 1.0936\tLoss_adv: 0.1615\tLoss(x): 0.9322\tD(G(x)): 0.2500 / -425.9735\n",
      "[13/100][0/1500]\tLoss_main: 1.1029\tLoss_adv: 0.1791\tLoss(x): 0.9238\tD(G(x)): 0.2500 / -460.7554\n",
      "[14/100][0/1500]\tLoss_main: 1.0733\tLoss_adv: 0.1946\tLoss(x): 0.8787\tD(G(x)): 0.2500 / -517.5862\n",
      "[15/100][0/1500]\tLoss_main: 1.0648\tLoss_adv: 0.2120\tLoss(x): 0.8528\tD(G(x)): 0.2500 / -594.2267\n",
      "[16/100][0/1500]\tLoss_main: 1.0396\tLoss_adv: 0.2346\tLoss(x): 0.8050\tD(G(x)): 0.2500 / -612.1149\n",
      "[17/100][0/1500]\tLoss_main: 1.0063\tLoss_adv: 0.2569\tLoss(x): 0.7494\tD(G(x)): 0.2500 / -682.7219\n",
      "[18/100][0/1500]\tLoss_main: 1.0129\tLoss_adv: 0.2660\tLoss(x): 0.7469\tD(G(x)): 0.2500 / -736.1062\n",
      "[19/100][0/1500]\tLoss_main: 1.0014\tLoss_adv: 0.2943\tLoss(x): 0.7071\tD(G(x)): 0.2500 / -790.2980\n",
      "[20/100][0/1500]\tLoss_main: 0.9793\tLoss_adv: 0.3083\tLoss(x): 0.6710\tD(G(x)): 0.2500 / -854.5375\n",
      "[21/100][0/1500]\tLoss_main: 0.9695\tLoss_adv: 0.3350\tLoss(x): 0.6344\tD(G(x)): 0.2500 / -923.4119\n",
      "[22/100][0/1500]\tLoss_main: 0.9708\tLoss_adv: 0.3572\tLoss(x): 0.6136\tD(G(x)): 0.2500 / -968.2922\n",
      "[23/100][0/1500]\tLoss_main: 0.9434\tLoss_adv: 0.3668\tLoss(x): 0.5765\tD(G(x)): 0.2500 / -1043.0762\n",
      "[24/100][0/1500]\tLoss_main: 0.9366\tLoss_adv: 0.3883\tLoss(x): 0.5483\tD(G(x)): 0.2500 / -1091.3365\n",
      "[25/100][0/1500]\tLoss_main: 0.8939\tLoss_adv: 0.4086\tLoss(x): 0.4852\tD(G(x)): 0.2500 / -1199.8650\n",
      "[26/100][0/1500]\tLoss_main: 0.8576\tLoss_adv: 0.4359\tLoss(x): 0.4217\tD(G(x)): 0.2500 / -1276.4156\n",
      "[27/100][0/1500]\tLoss_main: 0.8391\tLoss_adv: 0.4743\tLoss(x): 0.3648\tD(G(x)): 0.2500 / -1342.5852\n",
      "[28/100][0/1500]\tLoss_main: 0.8396\tLoss_adv: 0.4895\tLoss(x): 0.3501\tD(G(x)): 0.2500 / -1414.4467\n",
      "[29/100][0/1500]\tLoss_main: 0.8229\tLoss_adv: 0.5050\tLoss(x): 0.3178\tD(G(x)): 0.2500 / -1489.6851\n",
      "[30/100][0/1500]\tLoss_main: 0.8128\tLoss_adv: 0.5329\tLoss(x): 0.2799\tD(G(x)): 0.2500 / -1554.1489\n",
      "[31/100][0/1500]\tLoss_main: 0.8075\tLoss_adv: 0.5591\tLoss(x): 0.2483\tD(G(x)): 0.2500 / -1682.0566\n",
      "[32/100][0/1500]\tLoss_main: 0.8008\tLoss_adv: 0.5912\tLoss(x): 0.2096\tD(G(x)): 0.2500 / -1721.7720\n",
      "[33/100][0/1500]\tLoss_main: 0.7931\tLoss_adv: 0.6207\tLoss(x): 0.1724\tD(G(x)): 0.2500 / -1894.1923\n",
      "[34/100][0/1500]\tLoss_main: 0.7892\tLoss_adv: 0.6516\tLoss(x): 0.1375\tD(G(x)): 0.2500 / -1972.0963\n",
      "[35/100][0/1500]\tLoss_main: 0.7860\tLoss_adv: 0.6839\tLoss(x): 0.1021\tD(G(x)): 0.2500 / -2013.3853\n",
      "[36/100][0/1500]\tLoss_main: 0.7837\tLoss_adv: 0.7101\tLoss(x): 0.0736\tD(G(x)): 0.2500 / -2128.1814\n",
      "[37/100][0/1500]\tLoss_main: 0.7789\tLoss_adv: 0.7269\tLoss(x): 0.0520\tD(G(x)): 0.2500 / -2216.2002\n",
      "[38/100][0/1500]\tLoss_main: 0.7773\tLoss_adv: 0.7762\tLoss(x): 0.0012\tD(G(x)): 0.2500 / -2356.2104\n",
      "[39/100][0/1500]\tLoss_main: 0.7784\tLoss_adv: 0.7865\tLoss(x): -0.0081\tD(G(x)): 0.2500 / -2420.1064\n",
      "[40/100][0/1500]\tLoss_main: 0.7723\tLoss_adv: 0.8362\tLoss(x): -0.0639\tD(G(x)): 0.2500 / -2495.9749\n",
      "[41/100][0/1500]\tLoss_main: 0.7714\tLoss_adv: 0.8387\tLoss(x): -0.0673\tD(G(x)): 0.2500 / -2640.0203\n",
      "[42/100][0/1500]\tLoss_main: 0.7709\tLoss_adv: 0.8727\tLoss(x): -0.1019\tD(G(x)): 0.2500 / -2761.4490\n",
      "[43/100][0/1500]\tLoss_main: 0.7682\tLoss_adv: 0.9230\tLoss(x): -0.1548\tD(G(x)): 0.2500 / -2908.3542\n",
      "[44/100][0/1500]\tLoss_main: 0.7672\tLoss_adv: 0.9452\tLoss(x): -0.1780\tD(G(x)): 0.2500 / -2894.8052\n",
      "[45/100][0/1500]\tLoss_main: 0.7652\tLoss_adv: 0.9933\tLoss(x): -0.2281\tD(G(x)): 0.2500 / -3165.6995\n",
      "[46/100][0/1500]\tLoss_main: 0.7657\tLoss_adv: 1.0201\tLoss(x): -0.2543\tD(G(x)): 0.2500 / -3295.3848\n",
      "[47/100][0/1500]\tLoss_main: 0.7643\tLoss_adv: 1.0773\tLoss(x): -0.3130\tD(G(x)): 0.2500 / -3369.7996\n",
      "[48/100][0/1500]\tLoss_main: 0.7628\tLoss_adv: 1.0887\tLoss(x): -0.3259\tD(G(x)): 0.2500 / -3432.1294\n",
      "[49/100][0/1500]\tLoss_main: 0.7625\tLoss_adv: 1.1247\tLoss(x): -0.3622\tD(G(x)): 0.2500 / -3529.5498\n",
      "[50/100][0/1500]\tLoss_main: 0.7614\tLoss_adv: 1.1720\tLoss(x): -0.4106\tD(G(x)): 0.2500 / -3724.2188\n",
      "[51/100][0/1500]\tLoss_main: 0.7611\tLoss_adv: 1.2187\tLoss(x): -0.4576\tD(G(x)): 0.2500 / -3891.8398\n",
      "[52/100][0/1500]\tLoss_main: 0.7600\tLoss_adv: 1.2524\tLoss(x): -0.4925\tD(G(x)): 0.2500 / -4015.3369\n",
      "[53/100][0/1500]\tLoss_main: 0.7601\tLoss_adv: 1.2870\tLoss(x): -0.5269\tD(G(x)): 0.2500 / -4099.0723\n",
      "[54/100][0/1500]\tLoss_main: 0.7592\tLoss_adv: 1.3006\tLoss(x): -0.5414\tD(G(x)): 0.2500 / -4196.2832\n",
      "[55/100][0/1500]\tLoss_main: 0.7613\tLoss_adv: 1.3571\tLoss(x): -0.5957\tD(G(x)): 0.2500 / -4334.5532\n",
      "[56/100][0/1500]\tLoss_main: 0.7586\tLoss_adv: 1.3844\tLoss(x): -0.6258\tD(G(x)): 0.2500 / -4641.2876\n",
      "[57/100][0/1500]\tLoss_main: 0.7579\tLoss_adv: 1.4355\tLoss(x): -0.6776\tD(G(x)): 0.2500 / -4785.0918\n",
      "[58/100][0/1500]\tLoss_main: 0.7570\tLoss_adv: 1.4514\tLoss(x): -0.6945\tD(G(x)): 0.2500 / -4787.8652\n",
      "[59/100][0/1500]\tLoss_main: 0.7569\tLoss_adv: 1.5145\tLoss(x): -0.7576\tD(G(x)): 0.2500 / -5081.7881\n",
      "[60/100][0/1500]\tLoss_main: 0.7567\tLoss_adv: 1.5802\tLoss(x): -0.8235\tD(G(x)): 0.2500 / -5207.5312\n",
      "[61/100][0/1500]\tLoss_main: 0.7558\tLoss_adv: 1.5979\tLoss(x): -0.8421\tD(G(x)): 0.2500 / -5202.5840\n",
      "[62/100][0/1500]\tLoss_main: 0.7551\tLoss_adv: 1.6640\tLoss(x): -0.9088\tD(G(x)): 0.2500 / -5486.9707\n",
      "[63/100][0/1500]\tLoss_main: 0.7581\tLoss_adv: 1.6930\tLoss(x): -0.9349\tD(G(x)): 0.2500 / -5520.3149\n",
      "[64/100][0/1500]\tLoss_main: 0.7550\tLoss_adv: 1.6621\tLoss(x): -0.9071\tD(G(x)): 0.2500 / -5875.9053\n",
      "[65/100][0/1500]\tLoss_main: 0.7546\tLoss_adv: 1.8039\tLoss(x): -1.0493\tD(G(x)): 0.2500 / -5922.5142\n",
      "[66/100][0/1500]\tLoss_main: 0.7569\tLoss_adv: 1.8372\tLoss(x): -1.0803\tD(G(x)): 0.2500 / -6148.4360\n",
      "[67/100][0/1500]\tLoss_main: 0.7539\tLoss_adv: 1.9054\tLoss(x): -1.1515\tD(G(x)): 0.2500 / -6346.1816\n",
      "[68/100][0/1500]\tLoss_main: 0.7537\tLoss_adv: 1.9209\tLoss(x): -1.1672\tD(G(x)): 0.2500 / -6447.4097\n",
      "[69/100][0/1500]\tLoss_main: 0.7532\tLoss_adv: 1.9915\tLoss(x): -1.2383\tD(G(x)): 0.2500 / -6493.9248\n",
      "[70/100][0/1500]\tLoss_main: 0.7530\tLoss_adv: 2.0354\tLoss(x): -1.2824\tD(G(x)): 0.2500 / -6742.9243\n",
      "[71/100][0/1500]\tLoss_main: 0.7530\tLoss_adv: 2.0974\tLoss(x): -1.3444\tD(G(x)): 0.2500 / -6996.6182\n",
      "[72/100][0/1500]\tLoss_main: 0.7529\tLoss_adv: 2.1553\tLoss(x): -1.4024\tD(G(x)): 0.2500 / -7225.4097\n",
      "[73/100][0/1500]\tLoss_main: 0.7558\tLoss_adv: 2.2191\tLoss(x): -1.4633\tD(G(x)): 0.2500 / -7334.8496\n",
      "[74/100][0/1500]\tLoss_main: 0.7521\tLoss_adv: 2.2668\tLoss(x): -1.5147\tD(G(x)): 0.2500 / -7592.2446\n",
      "[75/100][0/1500]\tLoss_main: 0.7522\tLoss_adv: 2.3319\tLoss(x): -1.5796\tD(G(x)): 0.2500 / -7698.9209\n",
      "[76/100][0/1500]\tLoss_main: 0.7518\tLoss_adv: 2.3415\tLoss(x): -1.5897\tD(G(x)): 0.2500 / -7923.0635\n",
      "[77/100][0/1500]\tLoss_main: 0.7515\tLoss_adv: 2.3749\tLoss(x): -1.6234\tD(G(x)): 0.2500 / -8201.6230\n",
      "[78/100][0/1500]\tLoss_main: 0.7515\tLoss_adv: 2.4538\tLoss(x): -1.7024\tD(G(x)): 0.2500 / -8407.9922\n",
      "[79/100][0/1500]\tLoss_main: 0.7511\tLoss_adv: 2.4724\tLoss(x): -1.7213\tD(G(x)): 0.2500 / -8585.8213\n",
      "[80/100][0/1500]\tLoss_main: 0.7513\tLoss_adv: 2.5833\tLoss(x): -1.8320\tD(G(x)): 0.2500 / -8803.0098\n",
      "[81/100][0/1500]\tLoss_main: 0.7509\tLoss_adv: 2.5595\tLoss(x): -1.8086\tD(G(x)): 0.2500 / -9005.6670\n",
      "[82/100][0/1500]\tLoss_main: 0.7508\tLoss_adv: 2.6382\tLoss(x): -1.8874\tD(G(x)): 0.2500 / -9095.0918\n",
      "[83/100][0/1500]\tLoss_main: 0.7506\tLoss_adv: 2.7226\tLoss(x): -1.9720\tD(G(x)): 0.2500 / -9506.3662\n",
      "[84/100][0/1500]\tLoss_main: 0.7509\tLoss_adv: 2.7772\tLoss(x): -2.0264\tD(G(x)): 0.2500 / -9739.3027\n",
      "[85/100][0/1500]\tLoss_main: 0.7504\tLoss_adv: 2.8354\tLoss(x): -2.0850\tD(G(x)): 0.2500 / -9809.7100\n",
      "[86/100][0/1500]\tLoss_main: 0.7501\tLoss_adv: 2.9060\tLoss(x): -2.1558\tD(G(x)): 0.2500 / -10099.6602\n",
      "[87/100][0/1500]\tLoss_main: 0.7501\tLoss_adv: 2.9138\tLoss(x): -2.1637\tD(G(x)): 0.2500 / -10224.5400\n",
      "[88/100][0/1500]\tLoss_main: 0.7500\tLoss_adv: 2.9598\tLoss(x): -2.2099\tD(G(x)): 0.2500 / -10402.3369\n",
      "[89/100][0/1500]\tLoss_main: 0.7502\tLoss_adv: 3.0312\tLoss(x): -2.2810\tD(G(x)): 0.2500 / -10667.1543\n",
      "[90/100][0/1500]\tLoss_main: 0.7498\tLoss_adv: 3.1197\tLoss(x): -2.3699\tD(G(x)): 0.2500 / -10979.4766\n",
      "[91/100][0/1500]\tLoss_main: 0.7497\tLoss_adv: 3.1781\tLoss(x): -2.4284\tD(G(x)): 0.2500 / -11142.9385\n",
      "[92/100][0/1500]\tLoss_main: 0.7495\tLoss_adv: 3.2615\tLoss(x): -2.5120\tD(G(x)): 0.2500 / -11600.9453\n",
      "[93/100][0/1500]\tLoss_main: 0.7494\tLoss_adv: 3.3421\tLoss(x): -2.5928\tD(G(x)): 0.2500 / -11570.6709\n",
      "[94/100][0/1500]\tLoss_main: 0.7493\tLoss_adv: 3.4731\tLoss(x): -2.7239\tD(G(x)): 0.2500 / -11982.1006\n",
      "[95/100][0/1500]\tLoss_main: 0.7534\tLoss_adv: 3.4245\tLoss(x): -2.6712\tD(G(x)): 0.2500 / -12011.9805\n",
      "[96/100][0/1500]\tLoss_main: 0.7753\tLoss_adv: 3.5459\tLoss(x): -2.7705\tD(G(x)): 0.2500 / -12552.5303\n",
      "[97/100][0/1500]\tLoss_main: 1.1948\tLoss_adv: 3.5869\tLoss(x): -2.3922\tD(G(x)): 0.2500 / -12662.3086\n",
      "[98/100][0/1500]\tLoss_main: 1.0943\tLoss_adv: 3.6499\tLoss(x): -2.5556\tD(G(x)): 0.2500 / -12813.9756\n",
      "[99/100][0/1500]\tLoss_main: 1.0246\tLoss_adv: 3.7242\tLoss(x): -2.6997\tD(G(x)): 0.2500 / -13112.9629\n"
     ]
    }
   ],
   "source": [
    "main_losses, adv_losses, main_accs, adv_accs, cf_matrix, test_acc = ad_model.train()"
   ]
  },
  {
   "cell_type": "code",
   "execution_count": 5,
   "metadata": {},
   "outputs": [
    {
     "name": "stdout",
     "output_type": "stream",
     "text": [
      "[tensor(36.5333), tensor(31.4000), tensor(38.3333), tensor(42.0667), tensor(43.1333), tensor(50.9333), tensor(47.7333), tensor(49.3333), tensor(52.4667), tensor(61.6667), tensor(65.4667), tensor(68.9333), tensor(72.0667), tensor(72.5333), tensor(73.4000), tensor(74.0667), tensor(74.1333), tensor(74.2000), tensor(74.6667), tensor(82.6000), tensor(90.2000), tensor(91.5333), tensor(91.6667), tensor(93.1333), tensor(95.9333), tensor(98.5333), tensor(99.3333), tensor(99.2000), tensor(99.5333), tensor(99.6000), tensor(99.6000), tensor(99.6667), tensor(99.6667), tensor(99.6667), tensor(99.9333), tensor(99.8667), tensor(99.9333), tensor(99.8000), tensor(99.9333), tensor(99.9333), tensor(99.8667), tensor(99.9333), tensor(99.9333), tensor(99.9333), tensor(99.9333), tensor(99.8667), tensor(99.9333), tensor(99.8667), tensor(99.9333), tensor(99.9333), tensor(99.9333), tensor(99.9333), tensor(99.9333), tensor(99.9333), tensor(99.8667), tensor(100.), tensor(99.9333), tensor(100.), tensor(99.9333), tensor(99.9333), tensor(99.9333), tensor(99.9333), tensor(99.9333), tensor(99.8667), tensor(99.9333), tensor(99.9333), tensor(99.9333), tensor(99.9333), tensor(99.9333), tensor(99.9333), tensor(99.9333), tensor(99.9333), tensor(99.9333), tensor(99.9333), tensor(99.9333), tensor(99.9333), tensor(99.9333), tensor(99.9333), tensor(99.9333), tensor(99.9333), tensor(99.9333), tensor(99.9333), tensor(99.8667), tensor(99.9333), tensor(99.9333), tensor(99.9333), tensor(99.9333), tensor(99.9333), tensor(99.9333), tensor(99.9333), tensor(99.9333), tensor(99.9333), tensor(99.9333), tensor(99.9333), tensor(99.9333), tensor(99.8000), tensor(67.7333), tensor(54.2667), tensor(60.2000), tensor(73.6667)]\n"
     ]
    }
   ],
   "source": [
    "print(main_accs)"
   ]
  },
  {
   "cell_type": "code",
   "execution_count": 6,
   "metadata": {},
   "outputs": [
    {
     "name": "stdout",
     "output_type": "stream",
     "text": [
      "[tensor(0.8667), tensor(2.1333), tensor(2.5333), tensor(2.6000), tensor(2.6000), tensor(2.6667), tensor(2.6000), tensor(2.6667), tensor(2.6667), tensor(2.6000), tensor(2.6667), tensor(2.6667), tensor(2.6667), tensor(2.6000), tensor(2.6000), tensor(2.6667), tensor(2.6000), tensor(2.6000), tensor(2.6000), tensor(2.6000), tensor(2.6000), tensor(2.6000), tensor(2.6000), tensor(2.6000), tensor(2.6000), tensor(2.6000), tensor(2.6000), tensor(2.6667), tensor(2.5333), tensor(2.5333), tensor(2.5333), tensor(2.6667), tensor(2.6000), tensor(2.6000), tensor(2.7333), tensor(2.6000), tensor(2.6000), tensor(2.7333), tensor(2.6667), tensor(2.6000), tensor(2.6667), tensor(2.6667), tensor(2.6667), tensor(2.6667), tensor(2.7333), tensor(2.7333), tensor(2.7333), tensor(2.7333), tensor(2.7333), tensor(2.7333), tensor(2.7333), tensor(2.7333), tensor(2.7333), tensor(2.7333), tensor(2.7333), tensor(2.7333), tensor(2.8000), tensor(2.7333), tensor(2.7333), tensor(2.8000), tensor(2.8667), tensor(2.9333), tensor(2.9333), tensor(2.9333), tensor(2.7333), tensor(2.8000), tensor(2.7333), tensor(2.8667), tensor(2.8000), tensor(2.7333), tensor(2.8000), tensor(2.8667), tensor(2.8667), tensor(2.9333), tensor(2.7333), tensor(2.8667), tensor(2.8000), tensor(2.7333), tensor(2.8667), tensor(2.8667), tensor(2.9333), tensor(2.8667), tensor(2.9333), tensor(2.8000), tensor(2.8000), tensor(2.8000), tensor(2.8667), tensor(2.9333), tensor(2.8667), tensor(2.8667), tensor(2.8667), tensor(2.8667), tensor(2.8667), tensor(2.8667), tensor(2.9333), tensor(2.8000), tensor(2.8000), tensor(2.8667), tensor(2.8000), tensor(2.8667)]\n"
     ]
    }
   ],
   "source": [
    "print(adv_accs)"
   ]
  },
  {
   "cell_type": "code",
   "execution_count": 7,
   "metadata": {},
   "outputs": [
    {
     "data": {
      "text/plain": [
       "[<matplotlib.lines.Line2D at 0x7f93f6f53be0>]"
      ]
     },
     "execution_count": 7,
     "metadata": {},
     "output_type": "execute_result"
    },
    {
     "data": {
      "image/png": "[encoded data removed]",
      "text/plain": [
       "<Figure size 432x288 with 1 Axes>"
      ]
     },
     "metadata": {
      "needs_background": "light"
     },
     "output_type": "display_data"
    }
   ],
   "source": [
    "import matplotlib.pyplot as plt\n",
    "plt.plot(main_losses)"
   ]
  },
  {
   "cell_type": "code",
   "execution_count": 8,
   "metadata": {},
   "outputs": [
    {
     "data": {
      "text/plain": [
       "[<matplotlib.lines.Line2D at 0x7f93f719aeb0>]"
      ]
     },
     "execution_count": 8,
     "metadata": {},
     "output_type": "execute_result"
    },
    {
     "data": {
      "image/png": "[encoded data removed]",
      "text/plain": [
       "<Figure size 432x288 with 1 Axes>"
      ]
     },
     "metadata": {
      "needs_background": "light"
     },
     "output_type": "display_data"
    }
   ],
   "source": [
    "plt.plot(adv_losses)"
   ]
  }
 ],
 "metadata": {
  "kernelspec": {
   "display_name": "Python 3.8.3 ('base')",
   "language": "python",
   "name": "python3"
  },
  "language_info": {
   "codemirror_mode": {
    "name": "ipython",
    "version": 3
   },
   "file_extension": ".py",
   "mimetype": "text/x-python",
   "name": "python",
   "nbconvert_exporter": "python",
   "pygments_lexer": "ipython3",
   "version": "3.8.3"
  },
  "orig_nbformat": 4,
  "vscode": {
   "interpreter": {
    "hash": "40d3a090f54c6569ab1632332b64b2c03c39dcf918b08424e98f38b5ae0af88f"
   }
  }
 },
 "nbformat": 4,
 "nbformat_minor": 2
}
