{
 "cells": [
  {
   "cell_type": "code",
   "execution_count": 1,
   "metadata": {},
   "outputs": [],
   "source": [
    "# Load the libs\n",
    "import framework\n",
    "import numpy as np"
   ]
  },
  {
   "cell_type": "code",
   "execution_count": 2,
   "metadata": {},
   "outputs": [],
   "source": [
    "data_sample = np.load('sample_data.npz')\n",
    "# Load the sample data for testing the framework\n",
    "data_frames = data_sample.f.data_frames\n",
    "frame_label = data_sample.f.frame_label\n",
    "frame_subject = data_sample.f.frame_subject\n",
    "\n",
    "data_frames = np.reshape(data_frames, newshape=(data_frames.shape[0], data_frames.shape[1], data_frames.shape[2], 1))"
   ]
  },
  {
   "cell_type": "code",
   "execution_count": 3,
   "metadata": {},
   "outputs": [],
   "source": [
    "ad_model = framework.AdversarialModel(data_samples = data_frames, class_label=frame_label, subject_label=frame_subject)"
   ]
  },
  {
   "cell_type": "code",
   "execution_count": 4,
   "metadata": {},
   "outputs": [
    {
     "name": "stderr",
     "output_type": "stream",
     "text": [
      "c:\\ProgramData\\Anaconda3\\lib\\site-packages\\torch\\nn\\functional.py:1960: UserWarning: nn.functional.sigmoid is deprecated. Use torch.sigmoid instead.\n",
      "  warnings.warn(\"nn.functional.sigmoid is deprecated. Use torch.sigmoid instead.\")\n",
      "c:\\Users\\yh19218\\OneDrive - University of Essex\\PG Research\\2_Codes\\2022_GenerativeModel\\PainEEG_GenerativeModel\\trans_net.py:38: UserWarning: Implicit dimension choice for softmax has been deprecated. Change the call to include dim=X as an argument.\n",
      "  x = self.softmax(self.fc2(x))\n"
     ]
    },
    {
     "name": "stdout",
     "output_type": "stream",
     "text": [
      "[0/20][0/1500]\tLoss_main: 1.3911\tLoss_adv: 0.0004\tLoss(x): 1.3907\tD(G(x)): 0.2500 / -0.0602\n",
      "[1/20][0/1500]\tLoss_main: 1.3690\tLoss_adv: 0.0092\tLoss(x): 1.3598\tD(G(x)): 0.2500 / -16.4633\n",
      "[2/20][0/1500]\tLoss_main: 1.3486\tLoss_adv: 0.0217\tLoss(x): 1.3269\tD(G(x)): 0.2500 / -46.1341\n",
      "[3/20][0/1500]\tLoss_main: 1.3134\tLoss_adv: 0.0346\tLoss(x): 1.2788\tD(G(x)): 0.2500 / -78.9240\n",
      "[4/20][0/1500]\tLoss_main: 1.3205\tLoss_adv: 0.0479\tLoss(x): 1.2726\tD(G(x)): 0.2500 / -115.0306\n",
      "[5/20][0/1500]\tLoss_main: 1.3055\tLoss_adv: 0.0619\tLoss(x): 1.2436\tD(G(x)): 0.2500 / -151.2925\n",
      "[6/20][0/1500]\tLoss_main: 1.2878\tLoss_adv: 0.0761\tLoss(x): 1.2116\tD(G(x)): 0.2500 / -183.1143\n",
      "[7/20][0/1500]\tLoss_main: 1.2353\tLoss_adv: 0.0900\tLoss(x): 1.1454\tD(G(x)): 0.2500 / -222.3500\n",
      "[8/20][0/1500]\tLoss_main: 1.2302\tLoss_adv: 0.1027\tLoss(x): 1.1274\tD(G(x)): 0.2500 / -267.6936\n",
      "[9/20][0/1500]\tLoss_main: 1.2050\tLoss_adv: 0.1178\tLoss(x): 1.0872\tD(G(x)): 0.2500 / -305.8887\n",
      "[10/20][0/1500]\tLoss_main: 1.1784\tLoss_adv: 0.1310\tLoss(x): 1.0474\tD(G(x)): 0.2500 / -349.4537\n",
      "[11/20][0/1500]\tLoss_main: 1.1343\tLoss_adv: 0.1492\tLoss(x): 0.9851\tD(G(x)): 0.2500 / -389.1808\n",
      "[12/20][0/1500]\tLoss_main: 1.1242\tLoss_adv: 0.1595\tLoss(x): 0.9647\tD(G(x)): 0.2500 / -458.7624\n",
      "[13/20][0/1500]\tLoss_main: 1.1021\tLoss_adv: 0.1811\tLoss(x): 0.9210\tD(G(x)): 0.2500 / -479.0219\n",
      "[14/20][0/1500]\tLoss_main: 1.1059\tLoss_adv: 0.1965\tLoss(x): 0.9094\tD(G(x)): 0.2500 / -536.8901\n",
      "[15/20][0/1500]\tLoss_main: 1.0639\tLoss_adv: 0.2151\tLoss(x): 0.8489\tD(G(x)): 0.2500 / -614.3227\n",
      "[16/20][0/1500]\tLoss_main: 1.0330\tLoss_adv: 0.2279\tLoss(x): 0.8051\tD(G(x)): 0.2500 / -674.9880\n",
      "[17/20][0/1500]\tLoss_main: 0.9961\tLoss_adv: 0.2531\tLoss(x): 0.7430\tD(G(x)): 0.2500 / -711.0551\n",
      "[18/20][0/1500]\tLoss_main: 1.0029\tLoss_adv: 0.2666\tLoss(x): 0.7362\tD(G(x)): 0.2500 / -751.3044\n",
      "[19/20][0/1500]\tLoss_main: 0.9832\tLoss_adv: 0.2897\tLoss(x): 0.6935\tD(G(x)): 0.2500 / -815.5105\n"
     ]
    }
   ],
   "source": [
    "main_losses, adv_losses, main_accs, adv_accs = ad_model.train()"
   ]
  },
  {
   "cell_type": "code",
   "execution_count": 7,
   "metadata": {},
   "outputs": [
    {
     "name": "stdout",
     "output_type": "stream",
     "text": [
      "[tensor(25.5333), tensor(33.4667), tensor(40.2000), tensor(44.8667), tensor(44.6667), tensor(47.8667), tensor(50.7333), tensor(59.2667), tensor(57.8000), tensor(65.8667), tensor(69.2667), tensor(72.6000), tensor(72.), tensor(74.9333), tensor(75.3333), tensor(75.7333), tensor(75.6667), tensor(75.8667), tensor(81.6667), tensor(83.6667)]\n"
     ]
    }
   ],
   "source": [
    "print(main_accs)"
   ]
  },
  {
   "cell_type": "code",
   "execution_count": 8,
   "metadata": {},
   "outputs": [
    {
     "name": "stdout",
     "output_type": "stream",
     "text": [
      "[tensor(2.0667), tensor(1.), tensor(1.1333), tensor(1.1333), tensor(1.0667), tensor(1.1333), tensor(1.1333), tensor(1.1333), tensor(1.1333), tensor(1.1333), tensor(1.1333), tensor(1.1333), tensor(1.1333), tensor(1.1333), tensor(1.1333), tensor(1.1333), tensor(1.2000), tensor(1.2000), tensor(1.1333), tensor(1.1333)]\n"
     ]
    }
   ],
   "source": [
    "print(adv_accs)"
   ]
  },
  {
   "cell_type": "code",
   "execution_count": null,
   "metadata": {},
   "outputs": [],
   "source": []
  }
 ],
 "metadata": {
  "kernelspec": {
   "display_name": "Python 3.9.12 ('base')",
   "language": "python",
   "name": "python3"
  },
  "language_info": {
   "codemirror_mode": {
    "name": "ipython",
    "version": 3
   },
   "file_extension": ".py",
   "mimetype": "text/x-python",
   "name": "python",
   "nbconvert_exporter": "python",
   "pygments_lexer": "ipython3",
   "version": "3.9.12"
  },
  "orig_nbformat": 4,
  "vscode": {
   "interpreter": {
    "hash": "ad2bdc8ecc057115af97d19610ffacc2b4e99fae6737bb82f5d7fb13d2f2c186"
   }
  }
 },
 "nbformat": 4,
 "nbformat_minor": 2
}
