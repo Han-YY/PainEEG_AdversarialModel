{
 "cells": [
  {
   "cell_type": "code",
   "execution_count": 1,
   "metadata": {},
   "outputs": [],
   "source": [
    "# Load the libs\n",
    "import framework\n",
    "import numpy as np"
   ]
  },
  {
   "cell_type": "code",
   "execution_count": 2,
   "metadata": {},
   "outputs": [],
   "source": [
    "data_sample = np.load('sample_data.npz')\n",
    "# Load the sample data for testing the framework\n",
    "data_frames = data_sample.f.data_frames\n",
    "frame_label = data_sample.f.frame_label\n",
    "frame_subject = data_sample.f.frame_subject\n",
    "\n",
    "data_frames = np.reshape(data_frames, newshape=(data_frames.shape[0], data_frames.shape[1], data_frames.shape[2], 1))\n"
   ]
  },
  {
   "cell_type": "code",
   "execution_count": 6,
   "metadata": {},
   "outputs": [],
   "source": [
    "# Select the frame labels\n",
    "select_idx = [i for i, e in enumerate(frame_label) if e == 0 or e == 2]\n",
    "data_frames_s = data_frames[select_idx]\n",
    "frame_label_s = frame_label[select_idx]\n",
    "frame_subject_s = frame_subject[select_idx]"
   ]
  },
  {
   "cell_type": "code",
   "execution_count": 11,
   "metadata": {},
   "outputs": [],
   "source": [
    "class_unique = np.unique(frame_label_s)\n",
    "class_unique = class_unique.tolist()\n",
    "class_count = len(class_unique)\n",
    "class_labels_n = []\n",
    "for fl in frame_label_s:\n",
    "    class_labels_n.append(class_unique.index(fl))\n",
    "class_labels_n = np.asarray(class_labels_n)"
   ]
  },
  {
   "cell_type": "code",
   "execution_count": 12,
   "metadata": {},
   "outputs": [],
   "source": [
    "ad_model = framework.AdversarialModel(data_samples = data_frames_s, class_label=class_labels_n, subject_label=frame_subject_s, exclude_idx=35)"
   ]
  },
  {
   "cell_type": "code",
   "execution_count": 13,
   "metadata": {},
   "outputs": [
    {
     "name": "stderr",
     "output_type": "stream",
     "text": [
      "/opt/anaconda3/lib/python3.8/site-packages/torch/nn/functional.py:1639: UserWarning: nn.functional.sigmoid is deprecated. Use torch.sigmoid instead.\n",
      "  warnings.warn(\"nn.functional.sigmoid is deprecated. Use torch.sigmoid instead.\")\n",
      "/Users/yiyuan/Library/CloudStorage/OneDrive-UniversityofEssex/PG Research/2_Codes/2022_GenerativeModel/PainEEG_GenerativeModel/PainEEG_GenerativeModel/Untitled/trans_net.py:35: UserWarning: Implicit dimension choice for softmax has been deprecated. Change the call to include dim=X as an argument.\n",
      "  x = self.softmax(self.fc2(x))\n"
     ]
    },
    {
     "name": "stdout",
     "output_type": "stream",
     "text": [
      "[1/50][0/966]\tLoss_main: 0.6960\tLoss_adv: 0.0004\tLoss(x): 0.6956\tD(G(x)): 0.5000 / 0.0096\n",
      "[2/50][0/966]\tLoss_main: 0.6789\tLoss_adv: 0.0060\tLoss(x): 0.6729\tD(G(x)): 0.5000 / -7.9056\n",
      "[3/50][0/966]\tLoss_main: 0.6670\tLoss_adv: 0.0139\tLoss(x): 0.6531\tD(G(x)): 0.5000 / -26.5044\n",
      "[4/50][0/966]\tLoss_main: 0.6491\tLoss_adv: 0.0229\tLoss(x): 0.6262\tD(G(x)): 0.5000 / -49.5382\n",
      "[5/50][0/966]\tLoss_main: 0.6193\tLoss_adv: 0.0320\tLoss(x): 0.5872\tD(G(x)): 0.5000 / -73.2588\n",
      "[6/50][0/966]\tLoss_main: 0.5828\tLoss_adv: 0.0404\tLoss(x): 0.5424\tD(G(x)): 0.5000 / -98.1953\n",
      "[7/50][0/966]\tLoss_main: 0.5517\tLoss_adv: 0.0505\tLoss(x): 0.5011\tD(G(x)): 0.5000 / -123.4694\n",
      "[8/50][0/966]\tLoss_main: 0.5283\tLoss_adv: 0.0591\tLoss(x): 0.4692\tD(G(x)): 0.5000 / -154.2401\n",
      "[9/50][0/966]\tLoss_main: 0.4566\tLoss_adv: 0.0693\tLoss(x): 0.3873\tD(G(x)): 0.5000 / -180.1906\n",
      "[10/50][0/966]\tLoss_main: 0.4213\tLoss_adv: 0.0791\tLoss(x): 0.3421\tD(G(x)): 0.5000 / -201.0007\n",
      "[11/50][0/966]\tLoss_main: 0.3952\tLoss_adv: 0.0876\tLoss(x): 0.3075\tD(G(x)): 0.5000 / -233.6041\n",
      "[12/50][0/966]\tLoss_main: 0.3793\tLoss_adv: 0.0969\tLoss(x): 0.2824\tD(G(x)): 0.5000 / -262.8664\n",
      "[13/50][0/966]\tLoss_main: 0.3679\tLoss_adv: 0.1098\tLoss(x): 0.2581\tD(G(x)): 0.5000 / -294.6939\n",
      "[14/50][0/966]\tLoss_main: 0.3592\tLoss_adv: 0.1195\tLoss(x): 0.2397\tD(G(x)): 0.5000 / -320.3958\n",
      "[15/50][0/966]\tLoss_main: 0.3529\tLoss_adv: 0.1270\tLoss(x): 0.2259\tD(G(x)): 0.5000 / -354.9593\n",
      "[16/50][0/966]\tLoss_main: 0.3476\tLoss_adv: 0.1404\tLoss(x): 0.2072\tD(G(x)): 0.5000 / -381.4072\n",
      "[17/50][0/966]\tLoss_main: 0.3437\tLoss_adv: 0.1509\tLoss(x): 0.1927\tD(G(x)): 0.5000 / -413.7209\n",
      "[18/50][0/966]\tLoss_main: 0.3403\tLoss_adv: 0.1608\tLoss(x): 0.1795\tD(G(x)): 0.5000 / -444.9951\n",
      "[19/50][0/966]\tLoss_main: 0.3373\tLoss_adv: 0.1736\tLoss(x): 0.1638\tD(G(x)): 0.5000 / -485.7015\n",
      "[20/50][0/966]\tLoss_main: 0.3359\tLoss_adv: 0.1827\tLoss(x): 0.1532\tD(G(x)): 0.5000 / -511.7867\n",
      "[21/50][0/966]\tLoss_main: 0.3335\tLoss_adv: 0.1988\tLoss(x): 0.1347\tD(G(x)): 0.5000 / -561.2819\n",
      "[22/50][0/966]\tLoss_main: 0.3318\tLoss_adv: 0.2071\tLoss(x): 0.1247\tD(G(x)): 0.5000 / -611.7455\n",
      "[23/50][0/966]\tLoss_main: 0.3306\tLoss_adv: 0.2220\tLoss(x): 0.1086\tD(G(x)): 0.5000 / -639.4558\n",
      "[24/50][0/966]\tLoss_main: 0.3288\tLoss_adv: 0.2302\tLoss(x): 0.0986\tD(G(x)): 0.5000 / -687.4796\n",
      "[25/50][0/966]\tLoss_main: 0.3276\tLoss_adv: 0.2463\tLoss(x): 0.0813\tD(G(x)): 0.5000 / -700.3121\n",
      "[26/50][0/966]\tLoss_main: 0.3274\tLoss_adv: 0.2569\tLoss(x): 0.0705\tD(G(x)): 0.5000 / -767.1779\n",
      "[27/50][0/966]\tLoss_main: 0.3258\tLoss_adv: 0.2722\tLoss(x): 0.0536\tD(G(x)): 0.5000 / -799.9758\n",
      "[28/50][0/966]\tLoss_main: 0.3253\tLoss_adv: 0.2863\tLoss(x): 0.0390\tD(G(x)): 0.5000 / -827.1481\n",
      "[29/50][0/966]\tLoss_main: 0.3245\tLoss_adv: 0.2998\tLoss(x): 0.0247\tD(G(x)): 0.5000 / -872.7676\n",
      "[30/50][0/966]\tLoss_main: 0.3239\tLoss_adv: 0.3079\tLoss(x): 0.0160\tD(G(x)): 0.5000 / -926.7828\n",
      "[31/50][0/966]\tLoss_main: 0.3230\tLoss_adv: 0.3251\tLoss(x): -0.0021\tD(G(x)): 0.5000 / -955.0342\n",
      "[32/50][0/966]\tLoss_main: 0.3227\tLoss_adv: 0.3439\tLoss(x): -0.0212\tD(G(x)): 0.5000 / -1007.1599\n",
      "[33/50][0/966]\tLoss_main: 0.3223\tLoss_adv: 0.3545\tLoss(x): -0.0322\tD(G(x)): 0.5000 / -1042.3320\n",
      "[34/50][0/966]\tLoss_main: 0.3218\tLoss_adv: 0.3739\tLoss(x): -0.0521\tD(G(x)): 0.5000 / -1112.6123\n",
      "[35/50][0/966]\tLoss_main: 0.3212\tLoss_adv: 0.3835\tLoss(x): -0.0622\tD(G(x)): 0.5000 / -1132.9901\n",
      "[36/50][0/966]\tLoss_main: 0.3210\tLoss_adv: 0.3969\tLoss(x): -0.0759\tD(G(x)): 0.5000 / -1193.1621\n",
      "[37/50][0/966]\tLoss_main: 0.3208\tLoss_adv: 0.4164\tLoss(x): -0.0956\tD(G(x)): 0.5000 / -1233.2821\n",
      "[38/50][0/966]\tLoss_main: 0.3203\tLoss_adv: 0.4250\tLoss(x): -0.1047\tD(G(x)): 0.5000 / -1290.5983\n",
      "[39/50][0/966]\tLoss_main: 0.3200\tLoss_adv: 0.4520\tLoss(x): -0.1320\tD(G(x)): 0.5000 / -1322.9570\n",
      "[40/50][0/966]\tLoss_main: 0.3197\tLoss_adv: 0.4612\tLoss(x): -0.1415\tD(G(x)): 0.5000 / -1417.6088\n",
      "[41/50][0/966]\tLoss_main: 0.3194\tLoss_adv: 0.4808\tLoss(x): -0.1614\tD(G(x)): 0.5000 / -1449.9587\n",
      "[42/50][0/966]\tLoss_main: 0.3194\tLoss_adv: 0.4901\tLoss(x): -0.1708\tD(G(x)): 0.5000 / -1484.4264\n",
      "[43/50][0/966]\tLoss_main: 0.3190\tLoss_adv: 0.5139\tLoss(x): -0.1949\tD(G(x)): 0.5000 / -1589.2615\n",
      "[44/50][0/966]\tLoss_main: 0.3188\tLoss_adv: 0.5280\tLoss(x): -0.2093\tD(G(x)): 0.5000 / -1645.8931\n",
      "[45/50][0/966]\tLoss_main: 0.3185\tLoss_adv: 0.5532\tLoss(x): -0.2346\tD(G(x)): 0.5000 / -1648.9214\n",
      "[46/50][0/966]\tLoss_main: 0.3183\tLoss_adv: 0.5615\tLoss(x): -0.2432\tD(G(x)): 0.5000 / -1716.8625\n",
      "[47/50][0/966]\tLoss_main: 0.3182\tLoss_adv: 0.5741\tLoss(x): -0.2559\tD(G(x)): 0.5000 / -1807.8755\n",
      "[48/50][0/966]\tLoss_main: 0.3180\tLoss_adv: 0.6013\tLoss(x): -0.2833\tD(G(x)): 0.5000 / -1850.1562\n",
      "[49/50][0/966]\tLoss_main: 0.3178\tLoss_adv: 0.6069\tLoss(x): -0.2891\tD(G(x)): 0.5000 / -1938.0317\n",
      "[50/50][0/966]\tLoss_main: 0.3177\tLoss_adv: 0.6314\tLoss(x): -0.3137\tD(G(x)): 0.5000 / -1992.1558\n"
     ]
    },
    {
     "ename": "ValueError",
     "evalue": "Expected input batch_size (198) to match target batch_size (34).",
     "output_type": "error",
     "traceback": [
      "\u001b[0;31m---------------------------------------------------------------------------\u001b[0m",
      "\u001b[0;31mValueError\u001b[0m                                Traceback (most recent call last)",
      "\u001b[0;32m<ipython-input-13-903ae79fdd27>\u001b[0m in \u001b[0;36m<module>\u001b[0;34m\u001b[0m\n\u001b[0;32m----> 1\u001b[0;31m \u001b[0mmain_losses\u001b[0m\u001b[0;34m,\u001b[0m \u001b[0madv_losses\u001b[0m\u001b[0;34m,\u001b[0m \u001b[0mmain_accs\u001b[0m\u001b[0;34m,\u001b[0m \u001b[0madv_accs\u001b[0m\u001b[0;34m,\u001b[0m \u001b[0mcf_matrix\u001b[0m\u001b[0;34m,\u001b[0m \u001b[0mtest_acc\u001b[0m \u001b[0;34m=\u001b[0m \u001b[0mad_model\u001b[0m\u001b[0;34m.\u001b[0m\u001b[0mtrain\u001b[0m\u001b[0;34m(\u001b[0m\u001b[0;34m)\u001b[0m\u001b[0;34m\u001b[0m\u001b[0;34m\u001b[0m\u001b[0m\n\u001b[0m",
      "\u001b[0;32m~/Library/CloudStorage/OneDrive-UniversityofEssex/PG Research/2_Codes/2022_GenerativeModel/PainEEG_GenerativeModel/PainEEG_GenerativeModel/Untitled/framework.py\u001b[0m in \u001b[0;36mtrain\u001b[0;34m(self)\u001b[0m\n\u001b[1;32m    168\u001b[0m             \u001b[0;31m# self.main_clf.eval() # Set the model as evaluation mode\u001b[0m\u001b[0;34m\u001b[0m\u001b[0;34m\u001b[0m\u001b[0;34m\u001b[0m\u001b[0m\n\u001b[1;32m    169\u001b[0m             \u001b[0moutput_test\u001b[0m \u001b[0;34m=\u001b[0m \u001b[0mself\u001b[0m\u001b[0;34m.\u001b[0m\u001b[0mmain_clf\u001b[0m\u001b[0;34m(\u001b[0m\u001b[0mX_test\u001b[0m\u001b[0;34m)\u001b[0m\u001b[0;34m\u001b[0m\u001b[0;34m\u001b[0m\u001b[0m\n\u001b[0;32m--> 170\u001b[0;31m             \u001b[0mpreds\u001b[0m \u001b[0;34m=\u001b[0m \u001b[0mtorch\u001b[0m\u001b[0;34m.\u001b[0m\u001b[0margmax\u001b[0m\u001b[0;34m(\u001b[0m\u001b[0moutput_test\u001b[0m\u001b[0;34m,\u001b[0m \u001b[0mdim\u001b[0m\u001b[0;34m=\u001b[0m\u001b[0;36m1\u001b[0m\u001b[0;34m)\u001b[0m\u001b[0;34m\u001b[0m\u001b[0;34m\u001b[0m\u001b[0m\n\u001b[0m\u001b[1;32m    171\u001b[0m             \u001b[0mcf_matrix\u001b[0m \u001b[0;34m=\u001b[0m \u001b[0mconfusion_matrix\u001b[0m\u001b[0;34m(\u001b[0m\u001b[0my_test\u001b[0m\u001b[0;34m,\u001b[0m \u001b[0mpreds\u001b[0m\u001b[0;34m)\u001b[0m\u001b[0;34m\u001b[0m\u001b[0;34m\u001b[0m\u001b[0m\n\u001b[1;32m    172\u001b[0m             \u001b[0mpred_acc\u001b[0m \u001b[0;34m=\u001b[0m \u001b[0maccuracy_score\u001b[0m\u001b[0;34m(\u001b[0m\u001b[0my_test\u001b[0m\u001b[0;34m,\u001b[0m \u001b[0mpreds\u001b[0m\u001b[0;34m)\u001b[0m\u001b[0;34m\u001b[0m\u001b[0;34m\u001b[0m\u001b[0m\n",
      "\u001b[0;32m/opt/anaconda3/lib/python3.8/site-packages/torch/nn/modules/module.py\u001b[0m in \u001b[0;36m_call_impl\u001b[0;34m(self, *input, **kwargs)\u001b[0m\n\u001b[1;32m    725\u001b[0m             \u001b[0mresult\u001b[0m \u001b[0;34m=\u001b[0m \u001b[0mself\u001b[0m\u001b[0;34m.\u001b[0m\u001b[0m_slow_forward\u001b[0m\u001b[0;34m(\u001b[0m\u001b[0;34m*\u001b[0m\u001b[0minput\u001b[0m\u001b[0;34m,\u001b[0m \u001b[0;34m**\u001b[0m\u001b[0mkwargs\u001b[0m\u001b[0;34m)\u001b[0m\u001b[0;34m\u001b[0m\u001b[0;34m\u001b[0m\u001b[0m\n\u001b[1;32m    726\u001b[0m         \u001b[0;32melse\u001b[0m\u001b[0;34m:\u001b[0m\u001b[0;34m\u001b[0m\u001b[0;34m\u001b[0m\u001b[0m\n\u001b[0;32m--> 727\u001b[0;31m             \u001b[0mresult\u001b[0m \u001b[0;34m=\u001b[0m \u001b[0mself\u001b[0m\u001b[0;34m.\u001b[0m\u001b[0mforward\u001b[0m\u001b[0;34m(\u001b[0m\u001b[0;34m*\u001b[0m\u001b[0minput\u001b[0m\u001b[0;34m,\u001b[0m \u001b[0;34m**\u001b[0m\u001b[0mkwargs\u001b[0m\u001b[0;34m)\u001b[0m\u001b[0;34m\u001b[0m\u001b[0;34m\u001b[0m\u001b[0m\n\u001b[0m\u001b[1;32m    728\u001b[0m         for hook in itertools.chain(\n\u001b[1;32m    729\u001b[0m                 \u001b[0m_global_forward_hooks\u001b[0m\u001b[0;34m.\u001b[0m\u001b[0mvalues\u001b[0m\u001b[0;34m(\u001b[0m\u001b[0;34m)\u001b[0m\u001b[0;34m,\u001b[0m\u001b[0;34m\u001b[0m\u001b[0;34m\u001b[0m\u001b[0m\n",
      "\u001b[0;32m/opt/anaconda3/lib/python3.8/site-packages/torch/nn/modules/loss.py\u001b[0m in \u001b[0;36mforward\u001b[0;34m(self, input, target)\u001b[0m\n\u001b[1;32m    959\u001b[0m \u001b[0;34m\u001b[0m\u001b[0m\n\u001b[1;32m    960\u001b[0m     \u001b[0;32mdef\u001b[0m \u001b[0mforward\u001b[0m\u001b[0;34m(\u001b[0m\u001b[0mself\u001b[0m\u001b[0;34m,\u001b[0m \u001b[0minput\u001b[0m\u001b[0;34m:\u001b[0m \u001b[0mTensor\u001b[0m\u001b[0;34m,\u001b[0m \u001b[0mtarget\u001b[0m\u001b[0;34m:\u001b[0m \u001b[0mTensor\u001b[0m\u001b[0;34m)\u001b[0m \u001b[0;34m->\u001b[0m \u001b[0mTensor\u001b[0m\u001b[0;34m:\u001b[0m\u001b[0;34m\u001b[0m\u001b[0;34m\u001b[0m\u001b[0m\n\u001b[0;32m--> 961\u001b[0;31m         return F.cross_entropy(input, target, weight=self.weight,\n\u001b[0m\u001b[1;32m    962\u001b[0m                                ignore_index=self.ignore_index, reduction=self.reduction)\n\u001b[1;32m    963\u001b[0m \u001b[0;34m\u001b[0m\u001b[0m\n",
      "\u001b[0;32m/opt/anaconda3/lib/python3.8/site-packages/torch/nn/functional.py\u001b[0m in \u001b[0;36mcross_entropy\u001b[0;34m(input, target, weight, size_average, ignore_index, reduce, reduction)\u001b[0m\n\u001b[1;32m   2466\u001b[0m     \u001b[0;32mif\u001b[0m \u001b[0msize_average\u001b[0m \u001b[0;32mis\u001b[0m \u001b[0;32mnot\u001b[0m \u001b[0;32mNone\u001b[0m \u001b[0;32mor\u001b[0m \u001b[0mreduce\u001b[0m \u001b[0;32mis\u001b[0m \u001b[0;32mnot\u001b[0m \u001b[0;32mNone\u001b[0m\u001b[0;34m:\u001b[0m\u001b[0;34m\u001b[0m\u001b[0;34m\u001b[0m\u001b[0m\n\u001b[1;32m   2467\u001b[0m         \u001b[0mreduction\u001b[0m \u001b[0;34m=\u001b[0m \u001b[0m_Reduction\u001b[0m\u001b[0;34m.\u001b[0m\u001b[0mlegacy_get_string\u001b[0m\u001b[0;34m(\u001b[0m\u001b[0msize_average\u001b[0m\u001b[0;34m,\u001b[0m \u001b[0mreduce\u001b[0m\u001b[0;34m)\u001b[0m\u001b[0;34m\u001b[0m\u001b[0;34m\u001b[0m\u001b[0m\n\u001b[0;32m-> 2468\u001b[0;31m     \u001b[0;32mreturn\u001b[0m \u001b[0mnll_loss\u001b[0m\u001b[0;34m(\u001b[0m\u001b[0mlog_softmax\u001b[0m\u001b[0;34m(\u001b[0m\u001b[0minput\u001b[0m\u001b[0;34m,\u001b[0m \u001b[0;36m1\u001b[0m\u001b[0;34m)\u001b[0m\u001b[0;34m,\u001b[0m \u001b[0mtarget\u001b[0m\u001b[0;34m,\u001b[0m \u001b[0mweight\u001b[0m\u001b[0;34m,\u001b[0m \u001b[0;32mNone\u001b[0m\u001b[0;34m,\u001b[0m \u001b[0mignore_index\u001b[0m\u001b[0;34m,\u001b[0m \u001b[0;32mNone\u001b[0m\u001b[0;34m,\u001b[0m \u001b[0mreduction\u001b[0m\u001b[0;34m)\u001b[0m\u001b[0;34m\u001b[0m\u001b[0;34m\u001b[0m\u001b[0m\n\u001b[0m\u001b[1;32m   2469\u001b[0m \u001b[0;34m\u001b[0m\u001b[0m\n\u001b[1;32m   2470\u001b[0m \u001b[0;34m\u001b[0m\u001b[0m\n",
      "\u001b[0;32m/opt/anaconda3/lib/python3.8/site-packages/torch/nn/functional.py\u001b[0m in \u001b[0;36mnll_loss\u001b[0;34m(input, target, weight, size_average, ignore_index, reduce, reduction)\u001b[0m\n\u001b[1;32m   2259\u001b[0m \u001b[0;34m\u001b[0m\u001b[0m\n\u001b[1;32m   2260\u001b[0m     \u001b[0;32mif\u001b[0m \u001b[0minput\u001b[0m\u001b[0;34m.\u001b[0m\u001b[0msize\u001b[0m\u001b[0;34m(\u001b[0m\u001b[0;36m0\u001b[0m\u001b[0;34m)\u001b[0m \u001b[0;34m!=\u001b[0m \u001b[0mtarget\u001b[0m\u001b[0;34m.\u001b[0m\u001b[0msize\u001b[0m\u001b[0;34m(\u001b[0m\u001b[0;36m0\u001b[0m\u001b[0;34m)\u001b[0m\u001b[0;34m:\u001b[0m\u001b[0;34m\u001b[0m\u001b[0;34m\u001b[0m\u001b[0m\n\u001b[0;32m-> 2261\u001b[0;31m         raise ValueError('Expected input batch_size ({}) to match target batch_size ({}).'\n\u001b[0m\u001b[1;32m   2262\u001b[0m                          .format(input.size(0), target.size(0)))\n\u001b[1;32m   2263\u001b[0m     \u001b[0;32mif\u001b[0m \u001b[0mdim\u001b[0m \u001b[0;34m==\u001b[0m \u001b[0;36m2\u001b[0m\u001b[0;34m:\u001b[0m\u001b[0;34m\u001b[0m\u001b[0;34m\u001b[0m\u001b[0m\n",
      "\u001b[0;31mValueError\u001b[0m: Expected input batch_size (198) to match target batch_size (34)."
     ]
    }
   ],
   "source": [
    "main_losses, adv_losses, main_accs, adv_accs, cf_matrix, test_acc = ad_model.train()"
   ]
  },
  {
   "cell_type": "code",
   "execution_count": null,
   "metadata": {},
   "outputs": [
    {
     "name": "stdout",
     "output_type": "stream",
     "text": [
      "[tensor(37.1828), tensor(37.9078), tensor(41.1186), tensor(43.5526), tensor(45.5722), tensor(48.2651), tensor(52.3045), tensor(57.9492), tensor(59.6582), tensor(69.4459), tensor(72.5013), tensor(73.3817), tensor(74.2103), tensor(74.4692), tensor(74.7799), tensor(75.8674), tensor(84.5158), tensor(83.7908), tensor(84.3086), tensor(92.9570), tensor(97.8250), tensor(99.3268), tensor(99.6375), tensor(99.7411), tensor(99.7929), tensor(99.7929), tensor(99.7929), tensor(99.7929), tensor(99.7929), tensor(99.7929), tensor(99.7929), tensor(99.6893), tensor(99.7929), tensor(99.6893), tensor(99.7411), tensor(99.7929), tensor(99.7929), tensor(99.8446), tensor(99.7929), tensor(99.7929), tensor(99.7929), tensor(99.7929), tensor(99.7929), tensor(99.8446), tensor(99.8446), tensor(99.8446), tensor(99.8446), tensor(99.8446), tensor(99.8446), tensor(99.8446)]\n"
     ]
    }
   ],
   "source": [
    "print(main_accs)"
   ]
  },
  {
   "cell_type": "code",
   "execution_count": null,
   "metadata": {},
   "outputs": [
    {
     "name": "stdout",
     "output_type": "stream",
     "text": [
      "[tensor(1.0357), tensor(1.0875), tensor(2.3822), tensor(2.6411), tensor(2.5375), tensor(2.5893), tensor(2.6411), tensor(2.6411), tensor(2.6411), tensor(2.6411), tensor(2.6929), tensor(2.6929), tensor(2.6411), tensor(2.6929), tensor(2.5893), tensor(2.5893), tensor(2.5893), tensor(2.6411), tensor(2.6929), tensor(2.6411), tensor(2.5893), tensor(2.6411), tensor(2.6411), tensor(2.6411), tensor(2.6929), tensor(2.6929), tensor(2.6929), tensor(2.6929), tensor(2.6929), tensor(2.6929), tensor(2.6929), tensor(2.6411), tensor(2.6929), tensor(2.6411), tensor(2.6411), tensor(2.6411), tensor(2.6411), tensor(2.6411), tensor(2.6411), tensor(2.5375), tensor(2.6411), tensor(2.5893), tensor(2.6411), tensor(2.6411), tensor(2.5893), tensor(2.5893), tensor(2.5893), tensor(2.5893), tensor(2.5893), tensor(2.5893)]\n"
     ]
    }
   ],
   "source": [
    "print(adv_accs)"
   ]
  },
  {
   "cell_type": "code",
   "execution_count": null,
   "metadata": {},
   "outputs": [
    {
     "name": "stdout",
     "output_type": "stream",
     "text": [
      "0.21739130434782608\n"
     ]
    }
   ],
   "source": [
    "print(test_acc)"
   ]
  },
  {
   "cell_type": "code",
   "execution_count": null,
   "metadata": {},
   "outputs": [
    {
     "data": {
      "text/plain": [
       "[<matplotlib.lines.Line2D at 0x7ff13cf6e7c0>]"
      ]
     },
     "execution_count": 8,
     "metadata": {},
     "output_type": "execute_result"
    },
    {
     "data": {
      "image/png": "[encoded data removed]",
      "text/plain": [
       "<Figure size 432x288 with 1 Axes>"
      ]
     },
     "metadata": {
      "needs_background": "light"
     },
     "output_type": "display_data"
    }
   ],
   "source": [
    "import matplotlib.pyplot as plt\n",
    "plt.plot(main_losses)"
   ]
  },
  {
   "cell_type": "code",
   "execution_count": null,
   "metadata": {},
   "outputs": [
    {
     "data": {
      "text/plain": [
       "[<matplotlib.lines.Line2D at 0x7ff13d549610>]"
      ]
     },
     "execution_count": 9,
     "metadata": {},
     "output_type": "execute_result"
    },
    {
     "data": {
      "image/png": "[encoded data removed]",
      "text/plain": [
       "<Figure size 432x288 with 1 Axes>"
      ]
     },
     "metadata": {
      "needs_background": "light"
     },
     "output_type": "display_data"
    }
   ],
   "source": [
    "plt.plot(adv_losses)"
   ]
  }
 ],
 "metadata": {
  "kernelspec": {
   "display_name": "Python 3.8.3 ('base')",
   "language": "python",
   "name": "python3"
  },
  "language_info": {
   "codemirror_mode": {
    "name": "ipython",
    "version": 3
   },
   "file_extension": ".py",
   "mimetype": "text/x-python",
   "name": "python",
   "nbconvert_exporter": "python",
   "pygments_lexer": "ipython3",
   "version": "3.8.3"
  },
  "orig_nbformat": 4,
  "vscode": {
   "interpreter": {
    "hash": "40d3a090f54c6569ab1632332b64b2c03c39dcf918b08424e98f38b5ae0af88f"
   }
  }
 },
 "nbformat": 4,
 "nbformat_minor": 2
}
